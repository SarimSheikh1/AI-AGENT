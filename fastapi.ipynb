{
 "cells": [
  {
   "cell_type": "code",
   "execution_count": 2,
   "id": "122a58e0",
   "metadata": {},
   "outputs": [],
   "source": [
    "import requests"
   ]
  },
  {
   "cell_type": "code",
   "execution_count": 3,
   "id": "17c86ee1",
   "metadata": {},
   "outputs": [
    {
     "data": {
      "text/plain": [
       "'Response'"
      ]
     },
     "metadata": {},
     "output_type": "display_data"
    },
    {
     "data": {
      "text/plain": [
       "<Response [200]>"
      ]
     },
     "metadata": {},
     "output_type": "display_data"
    },
    {
     "name": "stdout",
     "output_type": "stream",
     "text": [
      "Status_code 200\n",
      "Json_obj {'status': 'OK'} <class 'dict'>\n",
      "response.text {\"status\":\"OK\"} <class 'str'>\n",
      "response.headers {'Connection': 'keep-alive', 'Content-Length': '15', 'etag': 'W/\"f-v/Y1JusChTxrQUzPtNAKycooOTA\"', 'content-type': 'application/json; charset=utf-8', 'x-powered-by': 'Express', 'Accept-Ranges': 'bytes', 'Date': 'Fri, 23 May 2025 05:48:09 GMT', 'Via': '1.1 varnish', 'X-Served-By': 'cache-qpg1280-QPG, cache-qpg1280-QPG', 'X-Cache': 'MISS, MISS', 'X-Cache-Hits': '0, 0', 'X-Timer': 'S1747979290.511749,VS0,VE296'}\n",
      "200 {'status': 'OK'} {\"status\":\"OK\"} {'Connection': 'keep-alive', 'Content-Length': '15', 'etag': 'W/\"f-v/Y1JusChTxrQUzPtNAKycooOTA\"', 'content-type': 'application/json; charset=utf-8', 'x-powered-by': 'Express', 'Accept-Ranges': 'bytes', 'Date': 'Fri, 23 May 2025 05:48:09 GMT', 'Via': '1.1 varnish', 'X-Served-By': 'cache-qpg1280-QPG, cache-qpg1280-QPG', 'X-Cache': 'MISS, MISS', 'X-Cache-Hits': '0, 0', 'X-Timer': 'S1747979290.511749,VS0,VE296'}\n"
     ]
    }
   ],
   "source": [
    "from requests.models import Response\n",
    "from requests.structures import CaseInsensitiveDict\n",
    "\n",
    "response: Response = requests.get('https://simple-books-api.glitch.me/status')\n",
    "display(\"Response\",response)\n",
    "\n",
    "status_code : int = response.status_code\n",
    "print(\"Status_code\",status_code)\n",
    "\n",
    "json_obj : dict = response.json()\n",
    "print(\"Json_obj\",json_obj, type(json_obj))\n",
    "\n",
    "txt: str = response.text\n",
    "print(\"response.text\",txt,type(txt))\n",
    "\n",
    "headers: CaseInsensitiveDict = response.headers\n",
    "print(\"response.headers\",headers)\n",
    "\n",
    "print(response.status_code, response.json(), response.text, response.headers)"
   ]
  }
 ],
 "metadata": {
  "kernelspec": {
   "display_name": "Python 3",
   "language": "python",
   "name": "python3"
  },
  "language_info": {
   "codemirror_mode": {
    "name": "ipython",
    "version": 3
   },
   "file_extension": ".py",
   "mimetype": "text/x-python",
   "name": "python",
   "nbconvert_exporter": "python",
   "pygments_lexer": "ipython3",
   "version": "3.13.1"
  }
 },
 "nbformat": 4,
 "nbformat_minor": 5
}
